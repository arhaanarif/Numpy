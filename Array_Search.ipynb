{
 "cells": [
  {
   "cell_type": "markdown",
   "metadata": {},
   "source": [
    "# Array Searching\n",
    "- Where() function"
   ]
  },
  {
   "cell_type": "code",
   "execution_count": 2,
   "metadata": {},
   "outputs": [
    {
     "name": "stdout",
     "output_type": "stream",
     "text": [
      "(array([3, 7, 9]),)\n"
     ]
    }
   ],
   "source": [
    "#Searching array\n",
    "#! using \"Where()\" function\n",
    "#? it will search an aray for a certain value and wil return the indexe value of the searching element\n",
    "\n",
    "import numpy as np\n",
    "x1=np.array([1,2,3,4,5,6,7,4,3,4])\n",
    "x2=np.where(x1==4)\n",
    "print(x2)"
   ]
  },
  {
   "cell_type": "code",
   "execution_count": 3,
   "metadata": {},
   "outputs": [
    {
     "name": "stdout",
     "output_type": "stream",
     "text": [
      "(array([1, 3, 5, 7, 9]),)\n"
     ]
    }
   ],
   "source": [
    "#searching for the indexes where the values are even\n",
    "\n",
    "x3=np.array([1,2,3,4,5,6,7,8,9,10])\n",
    "x4=np.where(x3%2==0)\n",
    "print(x4)"
   ]
  },
  {
   "cell_type": "code",
   "execution_count": 6,
   "metadata": {},
   "outputs": [
    {
     "name": "stdout",
     "output_type": "stream",
     "text": [
      "1\n",
      "2\n"
     ]
    }
   ],
   "source": [
    "# searching elements in the array\n",
    "\n",
    "\n",
    "#! using searchsorted() function- it wil perform binary search in an array\n",
    "\n",
    "x5=np.array([6,7,8,9])\n",
    "x6=np.searchsorted(x5,7)\n",
    "print(x6)\n",
    "\n",
    "x6=np.searchsorted(x5,7,side=\"right\") #? to make it run from the right side\n",
    "print(x6)"
   ]
  }
 ],
 "metadata": {
  "kernelspec": {
   "display_name": "Python 3",
   "language": "python",
   "name": "python3"
  },
  "language_info": {
   "codemirror_mode": {
    "name": "ipython",
    "version": 3
   },
   "file_extension": ".py",
   "mimetype": "text/x-python",
   "name": "python",
   "nbconvert_exporter": "python",
   "pygments_lexer": "ipython3",
   "version": "3.12.1"
  }
 },
 "nbformat": 4,
 "nbformat_minor": 2
}
