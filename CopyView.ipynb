{
 "cells": [
  {
   "cell_type": "markdown",
   "metadata": {},
   "source": [
    "# Copy and View Function"
   ]
  },
  {
   "cell_type": "code",
   "execution_count": null,
   "metadata": {},
   "outputs": [],
   "source": [
    "# learning copy and view in numpy\n",
    "#! copy feature makes the copy of the original array, any change in the copied array will not affect\n",
    "#! the original array.\n",
    "\n",
    "#* in view feature, vice versa of copy feature, any change in array will affect the original array"
   ]
  },
  {
   "cell_type": "code",
   "execution_count": 3,
   "metadata": {},
   "outputs": [
    {
     "name": "stdout",
     "output_type": "stream",
     "text": [
      "[1 2 3 4 5]\n",
      "[10  2  3  4  5]\n"
     ]
    }
   ],
   "source": [
    "#copy feature\n",
    "\n",
    "import numpy as np\n",
    "x1=np.array([1,2,3,4,5])\n",
    "x2=x1.copy()\n",
    "x2[0]=10\n",
    "print(x1)\n",
    "print(x2)"
   ]
  },
  {
   "cell_type": "code",
   "execution_count": 4,
   "metadata": {},
   "outputs": [
    {
     "name": "stdout",
     "output_type": "stream",
     "text": [
      "[43  2  3  4  5]\n",
      "[43  2  3  4  5]\n"
     ]
    }
   ],
   "source": [
    "#view feature\n",
    "\n",
    "x3=np.array([1,2,3,4,5])\n",
    "x4=x3.view()\n",
    "x3[0]=43\n",
    "\n",
    "print(x3)\n",
    "print(x4)\n",
    "\n",
    "#! changing original aray is also effecting the viewd array"
   ]
  }
 ],
 "metadata": {
  "kernelspec": {
   "display_name": "Python 3",
   "language": "python",
   "name": "python3"
  },
  "language_info": {
   "codemirror_mode": {
    "name": "ipython",
    "version": 3
   },
   "file_extension": ".py",
   "mimetype": "text/x-python",
   "name": "python",
   "nbconvert_exporter": "python",
   "pygments_lexer": "ipython3",
   "version": "3.12.1"
  }
 },
 "nbformat": 4,
 "nbformat_minor": 2
}
