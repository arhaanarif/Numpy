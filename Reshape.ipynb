{
 "cells": [
  {
   "cell_type": "markdown",
   "metadata": {},
   "source": [
    "# Array Reshaping"
   ]
  },
  {
   "cell_type": "code",
   "execution_count": null,
   "metadata": {},
   "outputs": [],
   "source": [
    "# Array Reshaping\n",
    "#! Reshaping means changing the elements like removing or adding elements"
   ]
  },
  {
   "cell_type": "code",
   "execution_count": 1,
   "metadata": {},
   "outputs": [
    {
     "name": "stdout",
     "output_type": "stream",
     "text": [
      "[[ 1  2  3]\n",
      " [ 4  5  6]\n",
      " [ 7  8  9]\n",
      " [10 11 12]]\n"
     ]
    }
   ],
   "source": [
    "# Reshaping from 1D to 2D\n",
    "import numpy as np\n",
    "x1=np.array([1,2,3,4,5,6,7,8,9,10,11,12])\n",
    "x2=x1.reshape(4,3)\n",
    "print(x2)"
   ]
  },
  {
   "cell_type": "code",
   "execution_count": 3,
   "metadata": {},
   "outputs": [
    {
     "name": "stdout",
     "output_type": "stream",
     "text": [
      "[[[ 1  2]\n",
      "  [ 3  4]\n",
      "  [ 5  6]]\n",
      "\n",
      " [[ 7  8]\n",
      "  [ 9 10]\n",
      "  [11 12]]]\n",
      "3\n"
     ]
    }
   ],
   "source": [
    "x3=np.array([1,2,3,4,5,6,7,8,9,10,11,12])\n",
    "x4=x3.reshape(2,3,2)\n",
    "print(x4)\n",
    "print(x4.ndim)\n",
    "\n",
    "#! converting 1D array into 3D array using reshape function\n",
    "#? .reshape(indexing,no. of elements)"
   ]
  },
  {
   "cell_type": "code",
   "execution_count": 4,
   "metadata": {},
   "outputs": [
    {
     "name": "stdout",
     "output_type": "stream",
     "text": [
      "[[[1 2]\n",
      "  [3 4]]\n",
      "\n",
      " [[5 6]\n",
      "  [7 8]]]\n"
     ]
    }
   ],
   "source": [
    "#unknown dimension\n",
    "#* only one unknown dimension is allowed by passing -1\n",
    "\n",
    "x5=np.array([1,2,3,4,5,6,7,8])\n",
    "x6=x5.reshape(2,2,-1)\n",
    "print(x6)\n"
   ]
  },
  {
   "cell_type": "code",
   "execution_count": 6,
   "metadata": {},
   "outputs": [
    {
     "name": "stdout",
     "output_type": "stream",
     "text": [
      "[1 2 3 4 5 6]\n"
     ]
    }
   ],
   "source": [
    "#converting a mulit dimension array into 1D array\n",
    "x7=np.array([[1,2,3],[4,5,6]])\n",
    "x8=x7.reshape(-1)\n",
    "print(x8)\n",
    "\n",
    "#? there are many functions in numpy to change the shapes of an array in numpy \n",
    "#* like- flattern, ravel etc.\n",
    "#* for rearranging the elements- rot90, flip, fliplr, flipud\n",
    "#! all these functions comes under advance numpy "
   ]
  },
  {
   "cell_type": "code",
   "execution_count": null,
   "metadata": {},
   "outputs": [],
   "source": []
  }
 ],
 "metadata": {
  "kernelspec": {
   "display_name": "Python 3",
   "language": "python",
   "name": "python3"
  },
  "language_info": {
   "codemirror_mode": {
    "name": "ipython",
    "version": 3
   },
   "file_extension": ".py",
   "mimetype": "text/x-python",
   "name": "python",
   "nbconvert_exporter": "python",
   "pygments_lexer": "ipython3",
   "version": "3.12.1"
  }
 },
 "nbformat": 4,
 "nbformat_minor": 2
}
