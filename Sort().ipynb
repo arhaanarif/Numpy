{
 "cells": [
  {
   "cell_type": "code",
   "execution_count": 1,
   "metadata": {},
   "outputs": [
    {
     "name": "stdout",
     "output_type": "stream",
     "text": [
      "[ 1  2  4  5  6  7  9 23 44 90]\n"
     ]
    }
   ],
   "source": [
    "#Sort function\n",
    "#! it will the array the array in ascending or descending order numerical or alphabetical etc.\n",
    "\n",
    "import numpy as np\n",
    "x1=np.array([2,1,5,9,7,90,44,23,4,6])\n",
    "print(np.sort(x1))"
   ]
  },
  {
   "cell_type": "code",
   "execution_count": 2,
   "metadata": {},
   "outputs": [
    {
     "name": "stdout",
     "output_type": "stream",
     "text": [
      "['a' 'b' 'c' 'd' 'e' 'f']\n"
     ]
    }
   ],
   "source": [
    "x2=np.array([\"b\",\"d\",\"a\",\"c\",\"f\",\"e\"])\n",
    "print(np.sort(x2))"
   ]
  },
  {
   "cell_type": "code",
   "execution_count": 3,
   "metadata": {},
   "outputs": [
    {
     "name": "stdout",
     "output_type": "stream",
     "text": [
      "[False  True  True]\n"
     ]
    }
   ],
   "source": [
    "#sorting the boolean array\n",
    "x3=np.array([True,True,False])\n",
    "print(np.sort(x3))\n"
   ]
  },
  {
   "cell_type": "code",
   "execution_count": 5,
   "metadata": {},
   "outputs": [
    {
     "name": "stdout",
     "output_type": "stream",
     "text": [
      "[[2 3 4]\n",
      " [0 4 6]]\n"
     ]
    }
   ],
   "source": [
    "#sorting the 2D array\n",
    "x4=np.array([[4,3,2],[6,0,4]])\n",
    "print(np.sort(x4))\n"
   ]
  }
 ],
 "metadata": {
  "kernelspec": {
   "display_name": "Python 3",
   "language": "python",
   "name": "python3"
  },
  "language_info": {
   "codemirror_mode": {
    "name": "ipython",
    "version": 3
   },
   "file_extension": ".py",
   "mimetype": "text/x-python",
   "name": "python",
   "nbconvert_exporter": "python",
   "pygments_lexer": "ipython3",
   "version": "3.12.1"
  }
 },
 "nbformat": 4,
 "nbformat_minor": 2
}
