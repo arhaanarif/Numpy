{
 "cells": [
  {
   "cell_type": "code",
   "execution_count": null,
   "metadata": {},
   "outputs": [],
   "source": [
    "#Arithmetic functions\n",
    "#! Shuffle\n",
    "#! Unique\n",
    "#! Resize\n",
    "#! Flatten\n",
    "#! Ravel\n"
   ]
  },
  {
   "cell_type": "code",
   "execution_count": 3,
   "metadata": {},
   "outputs": [
    {
     "name": "stdout",
     "output_type": "stream",
     "text": [
      "[5 2 6 3 7 1 8 9 4]\n"
     ]
    }
   ],
   "source": [
    "# Shuffle\n",
    "\n",
    "import numpy as np\n",
    "x=np.array([1,2,3,4,5,6,7,8,9])\n",
    "np.random.shuffle(x)\n",
    "print(x)\n",
    "\n",
    "#! it will randomly shuffle the array"
   ]
  },
  {
   "cell_type": "code",
   "execution_count": 6,
   "metadata": {},
   "outputs": [
    {
     "name": "stdout",
     "output_type": "stream",
     "text": [
      "(array([1, 2, 3, 4, 5, 6, 7]), array([0, 1, 2, 4, 6, 8, 7]), array([1, 2, 1, 2, 2, 1, 1]))\n"
     ]
    }
   ],
   "source": [
    "# Unique\n",
    "x1=np.array([1,2,3,2,4,4,5,7,6,5])\n",
    "print(np.unique(x1, return_index=True, return_counts=True))\n",
    "\n",
    "#? it will remove al the duplicate elements from an array\n"
   ]
  }
 ],
 "metadata": {
  "kernelspec": {
   "display_name": "Python 3",
   "language": "python",
   "name": "python3"
  },
  "language_info": {
   "codemirror_mode": {
    "name": "ipython",
    "version": 3
   },
   "file_extension": ".py",
   "mimetype": "text/x-python",
   "name": "python",
   "nbconvert_exporter": "python",
   "pygments_lexer": "ipython3",
   "version": "3.12.1"
  }
 },
 "nbformat": 4,
 "nbformat_minor": 2
}
