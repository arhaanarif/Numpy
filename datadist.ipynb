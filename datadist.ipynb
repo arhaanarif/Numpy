{
 "cells": [
  {
   "cell_type": "code",
   "execution_count": 2,
   "metadata": {},
   "outputs": [
    {
     "name": "stdout",
     "output_type": "stream",
     "text": [
      "[2 2 5 5 1 1 1 1 2 2 1 2 3 5 3 5 1 1 1 3 5 1 5 3 3 1 3 2 3 2 1 1 3 3 3 1 1\n",
      " 1 5 2 2 5 1 3 3 3 2 1 1 1 5 5 1 3 3 1 1 2 1 3 2 2 1 1 1 3 1 3 3 3 1 2 1 2\n",
      " 2 1 1 5 2 5 3 1 1 2 3 3 1 1 1 3 1 2 1 2 5 1 1 1 3 5]\n"
     ]
    }
   ],
   "source": [
    "# Data Distribution \n",
    "#* Data distribution is a list of all possible values and how often each vlaue occur\n",
    "#! Such list are important when working with statistice and data science\n",
    "\n",
    "\n",
    "from numpy import random\n",
    "x=random.choice([1,2,3,4,5], p=[0.4,0.3,0.2,0.0,0.1], size=(100))\n",
    "print(x)\n",
    "\n",
    "#? probability should not sum to 1. divide it accordingly\n"
   ]
  }
 ],
 "metadata": {
  "kernelspec": {
   "display_name": "Python 3",
   "language": "python",
   "name": "python3"
  },
  "language_info": {
   "codemirror_mode": {
    "name": "ipython",
    "version": 3
   },
   "file_extension": ".py",
   "mimetype": "text/x-python",
   "name": "python",
   "nbconvert_exporter": "python",
   "pygments_lexer": "ipython3",
   "version": "3.12.1"
  }
 },
 "nbformat": 4,
 "nbformat_minor": 2
}
