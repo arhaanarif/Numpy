{
 "cells": [
  {
   "cell_type": "code",
   "execution_count": null,
   "metadata": {},
   "outputs": [],
   "source": [
    "# Filtering()\n",
    "#? getting some elements out of an existing array and creating a new array is called filtering "
   ]
  },
  {
   "cell_type": "code",
   "execution_count": 1,
   "metadata": {},
   "outputs": [
    {
     "name": "stdout",
     "output_type": "stream",
     "text": [
      "[31 33 35 36]\n"
     ]
    }
   ],
   "source": [
    "import numpy as np\n",
    "x1=np.array([31,32,33,34,35,36,37,38])\n",
    "x2=[True,False,True,False,True,True,False,False]\n",
    "x3=x1[x2]\n",
    "print(x3)"
   ]
  },
  {
   "cell_type": "code",
   "execution_count": 4,
   "metadata": {},
   "outputs": [
    {
     "name": "stdout",
     "output_type": "stream",
     "text": [
      "[False, False, False, False, True, True, True, True]\n",
      "[35 36 37 38]\n"
     ]
    }
   ],
   "source": [
    "x4=np.array([31,32,33,34,35,36,37,38])\n",
    "x5=[]\n",
    "for elements in x4:\n",
    "    if elements>34:\n",
    "        x5.append(True)\n",
    "    else:\n",
    "        x5.append(False)\n",
    "x6=x4[x5]\n",
    "print(x5)\n",
    "print(x6)\n",
    "\n",
    "#? filtering an array using for loop"
   ]
  },
  {
   "cell_type": "code",
   "execution_count": 5,
   "metadata": {},
   "outputs": [
    {
     "name": "stdout",
     "output_type": "stream",
     "text": [
      "[False, True, False, True, False, True, False, True]\n",
      "[32 34 36 38]\n"
     ]
    }
   ],
   "source": [
    "x4=np.array([31,32,33,34,35,36,37,38])\n",
    "x5=[]\n",
    "for elements in x4:\n",
    "    if elements%2==0:\n",
    "        x5.append(True)\n",
    "    else:\n",
    "        x5.append(False)\n",
    "x6=x4[x5]\n",
    "print(x5)\n",
    "print(x6)"
   ]
  },
  {
   "cell_type": "code",
   "execution_count": 9,
   "metadata": {},
   "outputs": [
    {
     "ename": "TypeError",
     "evalue": "'>' not supported between instances of 'set' and 'int'",
     "output_type": "error",
     "traceback": [
      "\u001b[1;31m---------------------------------------------------------------------------\u001b[0m",
      "\u001b[1;31mTypeError\u001b[0m                                 Traceback (most recent call last)",
      "Cell \u001b[1;32mIn[9], line 2\u001b[0m\n\u001b[0;32m      1\u001b[0m y1\u001b[38;5;241m=\u001b[39mnp\u001b[38;5;241m.\u001b[39marray({\u001b[38;5;241m41\u001b[39m,\u001b[38;5;241m42\u001b[39m,\u001b[38;5;241m43\u001b[39m,\u001b[38;5;241m44\u001b[39m,\u001b[38;5;241m45\u001b[39m,\u001b[38;5;241m46\u001b[39m})\n\u001b[1;32m----> 2\u001b[0m y2\u001b[38;5;241m=\u001b[39m\u001b[43my1\u001b[49m\u001b[43m \u001b[49m\u001b[38;5;241;43m>\u001b[39;49m\u001b[43m \u001b[49m\u001b[38;5;241;43m42\u001b[39;49m\n\u001b[0;32m      3\u001b[0m y3\u001b[38;5;241m=\u001b[39my1[y2]\n\u001b[0;32m      4\u001b[0m \u001b[38;5;28mprint\u001b[39m(y2)\n",
      "\u001b[1;31mTypeError\u001b[0m: '>' not supported between instances of 'set' and 'int'"
     ]
    }
   ],
   "source": [
    "y1=np.array({41,42,43,44,45,46})\n",
    "y2=y1 > 42\n",
    "y3=y1[y2]\n",
    "print(y2)\n",
    "print(y3)"
   ]
  }
 ],
 "metadata": {
  "kernelspec": {
   "display_name": "Python 3",
   "language": "python",
   "name": "python3"
  },
  "language_info": {
   "codemirror_mode": {
    "name": "ipython",
    "version": 3
   },
   "file_extension": ".py",
   "mimetype": "text/x-python",
   "name": "python",
   "nbconvert_exporter": "python",
   "pygments_lexer": "ipython3",
   "version": "3.12.1"
  }
 },
 "nbformat": 4,
 "nbformat_minor": 2
}
