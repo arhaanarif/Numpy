{
 "cells": [
  {
   "cell_type": "markdown",
   "metadata": {},
   "source": [
    "# Array Index/Slicing using numpy"
   ]
  },
  {
   "cell_type": "code",
   "execution_count": 3,
   "metadata": {},
   "outputs": [
    {
     "name": "stdout",
     "output_type": "stream",
     "text": [
      "[2 3 4 5]\n",
      "[1 2 3 4 5 6]\n"
     ]
    }
   ],
   "source": [
    "#Topic-slicing index\n",
    "#slicing means taking elements from one given index to another index\n",
    "#[start:end] or [start:end:step]\n",
    "\n",
    "import numpy as np\n",
    "x=np.array([1,2,3,4,5,6,7,8,9,10])\n",
    "print(x[1:5])\n",
    "print(x[0:6])\n",
    "\n",
    "# [0:6] means it will start from 1 and end on \"5\"\n",
    "# [1:5] means it will start from \"2\" and end on \"4\""
   ]
  },
  {
   "cell_type": "code",
   "execution_count": 5,
   "metadata": {},
   "outputs": [
    {
     "name": "stdout",
     "output_type": "stream",
     "text": [
      "[2 4 6]\n"
     ]
    }
   ],
   "source": [
    "#steps: are used to determine the step valuen of the array \n",
    "y=np.array([1,2,3,4,5,6,7,8,9])\n",
    "print(y[1:6:2])"
   ]
  },
  {
   "cell_type": "code",
   "execution_count": 23,
   "metadata": {},
   "outputs": [
    {
     "name": "stdout",
     "output_type": "stream",
     "text": [
      "[7 8 9]\n",
      "[[2 3 4]\n",
      " [7 8 9]]\n"
     ]
    }
   ],
   "source": [
    "#slicing with steps on 2D array\n",
    "z=np.array([[1,2,3,4,5],[6,7,8,9,10]])\n",
    "#to print 7,8,9\n",
    "print(z[1,1:4])\n",
    "\n",
    "print(z[0:2,1:4])"
   ]
  }
 ],
 "metadata": {
  "kernelspec": {
   "display_name": "Python 3",
   "language": "python",
   "name": "python3"
  },
  "language_info": {
   "codemirror_mode": {
    "name": "ipython",
    "version": 3
   },
   "file_extension": ".py",
   "mimetype": "text/x-python",
   "name": "python",
   "nbconvert_exporter": "python",
   "pygments_lexer": "ipython3",
   "version": "3.12.1"
  }
 },
 "nbformat": 4,
 "nbformat_minor": 2
}
