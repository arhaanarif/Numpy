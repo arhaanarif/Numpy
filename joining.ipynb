{
 "cells": [
  {
   "cell_type": "markdown",
   "metadata": {},
   "source": [
    "# Arrays joining"
   ]
  },
  {
   "cell_type": "code",
   "execution_count": 3,
   "metadata": {},
   "outputs": [
    {
     "name": "stdout",
     "output_type": "stream",
     "text": [
      "[1 2 3 4 5 6]\n"
     ]
    }
   ],
   "source": [
    "#! joining the arrays usding concatenate() function\n",
    "import numpy as np\n",
    "x1=np.array([1,2,3])\n",
    "x2=np.array([4,5,6])\n",
    "x=np.concatenate((x1,x2))\n",
    "print(x)\n",
    "\n"
   ]
  },
  {
   "cell_type": "code",
   "execution_count": 5,
   "metadata": {},
   "outputs": [
    {
     "name": "stdout",
     "output_type": "stream",
     "text": [
      "[[1 2 5 6]\n",
      " [3 4 7 8]]\n"
     ]
    }
   ],
   "source": [
    "#joining the 2D arrays along with axis=1\n",
    "\n",
    "x3=np.array([[1,2],[3,4]])\n",
    "x4=np.array([[5,6],[7,8]])\n",
    "x=np.concatenate((x3,x4),axis=1)\n",
    "print(x)"
   ]
  },
  {
   "cell_type": "code",
   "execution_count": 6,
   "metadata": {},
   "outputs": [
    {
     "name": "stdout",
     "output_type": "stream",
     "text": [
      "[[1 4]\n",
      " [2 5]\n",
      " [3 6]]\n"
     ]
    }
   ],
   "source": [
    "#joining arrays using stack function\n",
    "x5=np.array([1,2,3])\n",
    "x6=np.array([4,5,6])\n",
    "x=np.stack((x5,x6),axis=1)\n",
    "print(x)"
   ]
  },
  {
   "cell_type": "code",
   "execution_count": 8,
   "metadata": {},
   "outputs": [
    {
     "name": "stdout",
     "output_type": "stream",
     "text": [
      "[1 2 3 4 5 6]\n"
     ]
    }
   ],
   "source": [
    "#stacking along with rows\n",
    "x5=np.array([1,2,3])\n",
    "x6=np.array([4,5,6])\n",
    "x=np.hstack((x5,x6))\n",
    "print(x)\n",
    "\n",
    "#! hstack(): used for row stacking\n"
   ]
  },
  {
   "cell_type": "code",
   "execution_count": 9,
   "metadata": {},
   "outputs": [
    {
     "name": "stdout",
     "output_type": "stream",
     "text": [
      "[[1 2 3]\n",
      " [4 5 6]]\n"
     ]
    }
   ],
   "source": [
    "#stacking along with columns: vstack()\n",
    "x5=np.array([1,2,3])\n",
    "x6=np.array([4,5,6])\n",
    "x=np.vstack((x5,x6))\n",
    "print(x)\n",
    "\n",
    "#! vstack(): used for column stacking "
   ]
  }
 ],
 "metadata": {
  "kernelspec": {
   "display_name": "Python 3",
   "language": "python",
   "name": "python3"
  },
  "language_info": {
   "codemirror_mode": {
    "name": "ipython",
    "version": 3
   },
   "file_extension": ".py",
   "mimetype": "text/x-python",
   "name": "python",
   "nbconvert_exporter": "python",
   "pygments_lexer": "ipython3",
   "version": "3.12.1"
  }
 },
 "nbformat": 4,
 "nbformat_minor": 2
}
