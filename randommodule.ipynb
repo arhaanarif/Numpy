{
 "cells": [
  {
   "cell_type": "code",
   "execution_count": 5,
   "metadata": {},
   "outputs": [
    {
     "name": "stdout",
     "output_type": "stream",
     "text": [
      "73\n"
     ]
    }
   ],
   "source": [
    "# Random - soimething that cannot be predicted logically\n",
    "from numpy import random\n",
    "x=random.randint(100)\n",
    "print(x)\n",
    "\n",
    "#! everytime it will gwenerate random number from 1 to 100\n"
   ]
  },
  {
   "cell_type": "code",
   "execution_count": 11,
   "metadata": {},
   "outputs": [
    {
     "name": "stdout",
     "output_type": "stream",
     "text": [
      "0.35179719242574914\n"
     ]
    }
   ],
   "source": [
    "x=random.rand()\n",
    "print(x)\n",
    "\n",
    "# everytime it will generate random numbers between 0 and 1"
   ]
  },
  {
   "cell_type": "code",
   "execution_count": 15,
   "metadata": {},
   "outputs": [
    {
     "name": "stdout",
     "output_type": "stream",
     "text": [
      "[ 7 57 42  0 15 74 88 46 14 93]\n"
     ]
    }
   ],
   "source": [
    "x=random.randint(100,size=(10))\n",
    "print(x)\n",
    "\n",
    "#! size=(5) determines the no.of elements in an array\n",
    "# it will create an 1D array of 10 random number from 0 to 100"
   ]
  },
  {
   "cell_type": "code",
   "execution_count": 18,
   "metadata": {},
   "outputs": [
    {
     "name": "stdout",
     "output_type": "stream",
     "text": [
      "[[23 56 45 56 16]\n",
      " [57 42 31 20 98]\n",
      " [24 18 43 15  9]]\n"
     ]
    }
   ],
   "source": [
    "x=random.randint(100, size=(3,5))\n",
    "print(x)\n",
    "\n",
    "#! it will create an 2D array - having 3 array each containing 5 elements  "
   ]
  },
  {
   "cell_type": "code",
   "execution_count": 19,
   "metadata": {},
   "outputs": [
    {
     "name": "stdout",
     "output_type": "stream",
     "text": [
      "[[0.75410592 0.45065617 0.51429587 0.83118351 0.98872254]\n",
      " [0.12214118 0.49481275 0.56481878 0.46783824 0.21014837]\n",
      " [0.88026684 0.22242985 0.31445027 0.43060817 0.83728652]]\n"
     ]
    }
   ],
   "source": [
    "x=random.rand(3,5)\n",
    "print(x)"
   ]
  },
  {
   "cell_type": "code",
   "execution_count": 22,
   "metadata": {},
   "outputs": [
    {
     "name": "stdout",
     "output_type": "stream",
     "text": [
      "2\n"
     ]
    }
   ],
   "source": [
    "x=random.choice([1,2,3,4,5,6,7,8])\n",
    "print(x)\n",
    "\n",
    "#! it will choose an random no. from the given array"
   ]
  },
  {
   "cell_type": "code",
   "execution_count": 24,
   "metadata": {},
   "outputs": [
    {
     "name": "stdout",
     "output_type": "stream",
     "text": [
      "[[8 4 2 2 2]\n",
      " [3 4 5 4 9]\n",
      " [3 8 6 6 9]]\n"
     ]
    }
   ],
   "source": [
    "x=random.choice([1,2,3,4,5,6,7,8,9], size=(3,5))\n",
    "print(x)\n",
    "\n",
    "#this code will create a 2d array of 3 array and 5 elements by randomly choosing elements from given array"
   ]
  }
 ],
 "metadata": {
  "kernelspec": {
   "display_name": "Python 3",
   "language": "python",
   "name": "python3"
  },
  "language_info": {
   "codemirror_mode": {
    "name": "ipython",
    "version": 3
   },
   "file_extension": ".py",
   "mimetype": "text/x-python",
   "name": "python",
   "nbconvert_exporter": "python",
   "pygments_lexer": "ipython3",
   "version": "3.12.1"
  }
 },
 "nbformat": 4,
 "nbformat_minor": 2
}
